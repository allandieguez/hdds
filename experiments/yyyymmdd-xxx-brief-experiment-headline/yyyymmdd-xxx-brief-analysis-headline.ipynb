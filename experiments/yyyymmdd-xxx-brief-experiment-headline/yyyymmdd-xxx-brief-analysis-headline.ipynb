{
 "cells": [
  {
   "cell_type": "markdown",
   "id": "8cf3a391",
   "metadata": {
    "pycharm": {
     "name": "#%% md\n"
    }
   },
   "source": [
    "# Analysis - Analysis Name or Brief Headline\n",
    "\n",
    "## Context\n",
    "\n",
    "Cointext that helps understanding the analysis objectives. Should describe some of the milestones, the main point in the hypothesis being validated or anything that helps understanding the **objective** without ambiguity.\n",
    "\n",
    "## Objective\n",
    "\n",
    "The main objective of the analysis written short and straight to the point. Should be easily understandable from the experiment point of view and always testable."
   ]
  },
  {
   "cell_type": "markdown",
   "id": "fb6bc314",
   "metadata": {
    "pycharm": {
     "name": "#%% md\n"
    }
   },
   "source": [
    "# Setup\n",
    "\n",
    "Setups and configs for every analysis notebook."
   ]
  },
  {
   "cell_type": "markdown",
   "id": "d36f0986",
   "metadata": {
    "pycharm": {
     "name": "#%% md\n"
    }
   },
   "source": [
    "## Jupyter\n",
    "\n",
    "Some `magic` commands for using with the notebook. The `autoreload` allows automatic sync on any code update from functions or classes imported from `src`. And the `matplotlib` allows creating plots on the notebook."
   ]
  },
  {
   "cell_type": "code",
   "execution_count": 183,
   "id": "338845cb",
   "metadata": {
    "pycharm": {
     "name": "#%%\n"
    }
   },
   "outputs": [
    {
     "name": "stdout",
     "output_type": "stream",
     "text": [
      "The autoreload extension is already loaded. To reload it, use:\n",
      "  %reload_ext autoreload\n"
     ]
    }
   ],
   "source": [
    "%load_ext autoreload\n",
    "%autoreload 2"
   ]
  },
  {
   "cell_type": "code",
   "execution_count": 184,
   "id": "a0ae435b",
   "metadata": {
    "pycharm": {
     "name": "#%%\n"
    }
   },
   "outputs": [],
   "source": [
    "%matplotlib notebook "
   ]
  },
  {
   "cell_type": "markdown",
   "id": "d294f467",
   "metadata": {
    "pycharm": {
     "name": "#%% md\n"
    }
   },
   "source": [
    "## Sources\n",
    "\n",
    "Using the configuration files to access folders in the main project."
   ]
  },
  {
   "cell_type": "code",
   "execution_count": 185,
   "id": "cce48d58",
   "metadata": {
    "pycharm": {
     "name": "#%%\n"
    }
   },
   "outputs": [],
   "source": [
    "from config import *"
   ]
  },
  {
   "cell_type": "code",
   "execution_count": 186,
   "id": "3375682d",
   "metadata": {
    "pycharm": {
     "name": "#%%\n"
    }
   },
   "outputs": [
    {
     "name": "stdout",
     "output_type": "stream",
     "text": [
      "Dir Structure\n",
      "  . <ROOT> \n",
      "  |__ /root/project-name/data\n",
      "  |__ /root/project-name/docs\n",
      "  |__ /root/project-name/experiments\n",
      "  |__ /root/project-name/src\n"
     ]
    }
   ],
   "source": [
    "print('Dir Structure')\n",
    "print('  . <ROOT> ')\n",
    "for d in [DATA_DIR, DOCS_DIR, EXPT_DIR, SOURCE_DIR]:\n",
    "    print(f'  |__ {d}')"
   ]
  },
  {
   "cell_type": "markdown",
   "id": "a7459ace",
   "metadata": {
    "pycharm": {
     "name": "#%% md\n"
    }
   },
   "source": [
    "## Imports"
   ]
  },
  {
   "cell_type": "markdown",
   "id": "d8ad2c1f",
   "metadata": {
    "pycharm": {
     "name": "#%% md\n"
    }
   },
   "source": [
    "### System Imports"
   ]
  },
  {
   "cell_type": "code",
   "execution_count": 1,
   "id": "1dd866b8",
   "metadata": {
    "pycharm": {
     "name": "#%%\n"
    }
   },
   "outputs": [],
   "source": [
    "# Every external import should go here"
   ]
  },
  {
   "cell_type": "markdown",
   "id": "391e6c51",
   "metadata": {
    "pycharm": {
     "name": "#%% md\n"
    }
   },
   "source": [
    "### Local Imports"
   ]
  },
  {
   "cell_type": "code",
   "execution_count": 2,
   "id": "c563c70c",
   "metadata": {
    "pycharm": {
     "name": "#%%\n"
    }
   },
   "outputs": [],
   "source": [
    "# Every import from the `src` folder goes here"
   ]
  },
  {
   "cell_type": "markdown",
   "id": "3e874151",
   "metadata": {},
   "source": [
    "# Analysis Section\n",
    "\n",
    "A central analysis Section, in which a big chunk of the work towards the objective is done."
   ]
  },
  {
   "cell_type": "markdown",
   "id": "2e53c936",
   "metadata": {
    "pycharm": {
     "name": "#%% md\n"
    }
   },
   "source": [
    "## Subsection\n",
    "A good practice is to organize every lesser step in a nested way, so the bigger step can be split into smaller and simpler work."
   ]
  },
  {
   "cell_type": "code",
   "execution_count": null,
   "id": "1ef4d653",
   "metadata": {},
   "outputs": [],
   "source": [
    "# All code in the notebook should be short and straight to the point. \n",
    "# If the code gets too big, it is a good practice to move it to the `src` folder. \n",
    "# It also is a good practice is to write tests for code in the `src folder.`"
   ]
  },
  {
   "cell_type": "markdown",
   "id": "27aa6ecf",
   "metadata": {
    "pycharm": {
     "name": "#%% md\n"
    }
   },
   "source": [
    "## Conclusion\n",
    "Every Section must have a conclusion, which will be used to compose the final conclusion."
   ]
  },
  {
   "cell_type": "markdown",
   "id": "b7d15e09",
   "metadata": {},
   "source": [
    "# Final Conclusion\n",
    "\n",
    "All analysis must have conclusions, specially regarding the objective at hand."
   ]
  },
  {
   "cell_type": "markdown",
   "id": "c530e565",
   "metadata": {
    "pycharm": {
     "name": "#%% md\n"
    }
   },
   "source": [
    "## Subsection\n",
    "\n",
    "Conclusions should mirror the work done, so sometimes it is ok to split the conclusion on topics. Examples of possible topics:\n",
    "- Insights and ideas for new hypothesys\n",
    "- Milestone Tracking\n",
    "- Evidence to validate/refut hypothesis\n",
    "- Boudary conditions discovered throughout the analysis"
   ]
  }
 ],
 "metadata": {
  "kernelspec": {
   "display_name": "Python 3 (ipykernel)",
   "language": "python",
   "name": "python3"
  },
  "language_info": {
   "codemirror_mode": {
    "name": "ipython",
    "version": 3
   },
   "file_extension": ".py",
   "mimetype": "text/x-python",
   "name": "python",
   "nbconvert_exporter": "python",
   "pygments_lexer": "ipython3",
   "version": "3.7.12"
  },
  "varInspector": {
   "cols": {
    "lenName": 16,
    "lenType": 16,
    "lenVar": 40
   },
   "kernels_config": {
    "python": {
     "delete_cmd_postfix": "",
     "delete_cmd_prefix": "del ",
     "library": "var_list.py",
     "varRefreshCmd": "print(var_dic_list())"
    },
    "r": {
     "delete_cmd_postfix": ") ",
     "delete_cmd_prefix": "rm(",
     "library": "var_list.r",
     "varRefreshCmd": "cat(var_dic_list()) "
    }
   },
   "types_to_exclude": [
    "module",
    "function",
    "builtin_function_or_method",
    "instance",
    "_Feature"
   ],
   "window_display": false
  }
 },
 "nbformat": 4,
 "nbformat_minor": 5
}
